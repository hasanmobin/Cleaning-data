{
 "cells": [
  {
   "cell_type": "code",
   "execution_count": 38,
   "id": "85c101d1",
   "metadata": {},
   "outputs": [
    {
     "data": {
      "text/plain": [
       "3"
      ]
     },
     "execution_count": 38,
     "metadata": {},
     "output_type": "execute_result"
    }
   ],
   "source": [
    "#A1\n",
    "\n",
    "def add(a,b):\n",
    "    c=a+b\n",
    "    return c\n",
    "add(1,2)"
   ]
  },
  {
   "cell_type": "code",
   "execution_count": 17,
   "id": "8979ec21",
   "metadata": {},
   "outputs": [
    {
     "name": "stdout",
     "output_type": "stream",
     "text": [
      "3\n"
     ]
    }
   ],
   "source": [
    "#A1\n",
    "def sum (x,y):\n",
    "    return x+y\n",
    "a = sum(2,1)\n",
    "print(a)"
   ]
  },
  {
   "cell_type": "code",
   "execution_count": 43,
   "id": "fea9d311",
   "metadata": {},
   "outputs": [
    {
     "data": {
      "text/plain": [
       "2"
      ]
     },
     "execution_count": 43,
     "metadata": {},
     "output_type": "execute_result"
    }
   ],
   "source": [
    "#A2\n",
    "def largest_number(array):\n",
    "    return max(array)\n",
    "largest_number([1,2])"
   ]
  },
  {
   "cell_type": "code",
   "execution_count": 21,
   "id": "f610736a",
   "metadata": {},
   "outputs": [
    {
     "name": "stdout",
     "output_type": "stream",
     "text": [
      "2\n"
     ]
    }
   ],
   "source": [
    "#A2\n",
    "mylist=[2,1]\n",
    "mylist.sort()\n",
    "print(mylist[-1])\n"
   ]
  },
  {
   "cell_type": "code",
   "execution_count": 4,
   "id": "726fbf8f",
   "metadata": {},
   "outputs": [
    {
     "name": "stdout",
     "output_type": "stream",
     "text": [
      "5.0\n"
     ]
    }
   ],
   "source": [
    "#A3\n",
    "def square_root(array):\n",
    "    n = 0\n",
    "    for sum in array:\n",
    "        n += sum**0.5\n",
    "    return n\n",
    "    \n",
    "square_root([4,9])\n"
   ]
  },
  {
   "cell_type": "code",
   "execution_count": 58,
   "id": "a97ac95b",
   "metadata": {},
   "outputs": [
    {
     "data": {
      "text/plain": [
       "True"
      ]
     },
     "execution_count": 58,
     "metadata": {},
     "output_type": "execute_result"
    }
   ],
   "source": [
    "#A4\n",
    "def true_statment(array,a):\n",
    "    for a in array:\n",
    "        return True\n",
    "    else:\n",
    "        return False\n",
    "true_statment([1,2,3],3) "
   ]
  },
  {
   "cell_type": "code",
   "execution_count": 64,
   "id": "23493fb6",
   "metadata": {},
   "outputs": [
    {
     "name": "stdout",
     "output_type": "stream",
     "text": [
      "False\n",
      "False\n",
      "True\n"
     ]
    }
   ],
   "source": [
    "#A4\n",
    "a = [1,2,3]\n",
    "b = []\n",
    "for i in a:\n",
    "    if (i ==3):\n",
    "        print(True)\n",
    "    else:\n",
    "        print(False)"
   ]
  },
  {
   "cell_type": "code",
   "execution_count": 25,
   "id": "a2f7dd6c",
   "metadata": {},
   "outputs": [
    {
     "data": {
      "text/plain": [
       "[4, 5]"
      ]
     },
     "execution_count": 25,
     "metadata": {},
     "output_type": "execute_result"
    }
   ],
   "source": [
    "#A5 Q\n",
    "def element(arr,n,sum):\n",
    "    for i in range(0,n):\n",
    "        for j in range(i-1,n):\n",
    "            if arr[i]+ arr[j]==sum:\n",
    "                  return [arr[i],arr[j]]\n",
    "arr=[2,3,4,5,]\n",
    "n =len(arr)\n",
    "_sum = 9\n",
    "element(arr,n,_sum)"
   ]
  },
  {
   "cell_type": "code",
   "execution_count": 90,
   "id": "b2c4fac8",
   "metadata": {},
   "outputs": [
    {
     "data": {
      "text/plain": [
       "12"
      ]
     },
     "execution_count": 90,
     "metadata": {},
     "output_type": "execute_result"
    }
   ],
   "source": [
    "#A6\n",
    "class multi:\n",
    "    def __init__(self,x,y):\n",
    "        self.x =x\n",
    "        self.y =y\n",
    "    def multiplication(self):\n",
    "        return self.x * self.y\n",
    "cal1 = multi(3,4)\n",
    "cal1.multiplication()"
   ]
  },
  {
   "cell_type": "code",
   "execution_count": 97,
   "id": "266d4605",
   "metadata": {},
   "outputs": [
    {
     "data": {
      "text/plain": [
       "5"
      ]
     },
     "execution_count": 97,
     "metadata": {},
     "output_type": "execute_result"
    }
   ],
   "source": [
    "#A7\n",
    "class big_number:\n",
    "    def __init__(self,x,y):\n",
    "        self.x =x\n",
    "        self.y =y\n",
    "    def big(self):\n",
    "        return max(self.x, self.y)\n",
    "big1 = big_number(4,5)\n",
    "big1.big()"
   ]
  },
  {
   "cell_type": "code",
   "execution_count": 6,
   "id": "1d002d9e",
   "metadata": {},
   "outputs": [],
   "source": [
    "import matplotlib.pyplot as plt"
   ]
  },
  {
   "cell_type": "code",
   "execution_count": 15,
   "id": "660c86d1",
   "metadata": {},
   "outputs": [
    {
     "data": {
      "image/png": "[encoded data removed]",
      "text/plain": [
       "<Figure size 432x288 with 1 Axes>"
      ]
     },
     "metadata": {
      "needs_background": "light"
     },
     "output_type": "display_data"
    }
   ],
   "source": [
    "#A1\n",
    "x=[1,2,4]\n",
    "y=[4,7,9]\n",
    "\n",
    "plt.plot(x,y)\n",
    "plt.xlabel('y')\n",
    "plt.ylabel('x')\n",
    "plt.show()"
   ]
  },
  {
   "cell_type": "code",
   "execution_count": 24,
   "id": "0342c6f2",
   "metadata": {},
   "outputs": [
    {
     "data": {
      "image/png": "[encoded data removed]",
      "text/plain": [
       "<Figure size 432x288 with 1 Axes>"
      ]
     },
     "metadata": {
      "needs_background": "light"
     },
     "output_type": "display_data"
    }
   ],
   "source": [
    "#A2\n",
    "x=[1,7,9]\n",
    "y=[number**4 for number in x]\n",
    "plt.plot(x,y,'r')\n",
    "plt.xlabel('x data')\n",
    "plt.ylabel('y data')\n",
    "plt.show()"
   ]
  },
  {
   "cell_type": "code",
   "execution_count": 10,
   "id": "617fd413",
   "metadata": {},
   "outputs": [
    {
     "data": {
      "image/png": "[encoded data removed]",
      "text/plain": [
       "<Figure size 432x288 with 1 Axes>"
      ]
     },
     "metadata": {
      "needs_background": "light"
     },
     "output_type": "display_data"
    }
   ],
   "source": [
    "#A3\n",
    "import numpy as np\n",
    "x = np.linspace(0, 100, 10)\n",
    "plt.plot(x,2*x)\n",
    "plt.plot(x,x**2)\n",
    "plt.plot(x,x)\n",
    "plt.show()"
   ]
  },
  {
   "cell_type": "code",
   "execution_count": 106,
   "id": "2374574b",
   "metadata": {},
   "outputs": [
    {
     "data": {
      "image/png": "[encoded data removed]",
      "text/plain": [
       "<Figure size 432x288 with 1 Axes>"
      ]
     },
     "metadata": {
      "needs_background": "light"
     },
     "output_type": "display_data"
    }
   ],
   "source": [
    "#A4\n",
    "import numpy as np\n",
    "def plot(x):\n",
    "    plt.plot(x,x**3)\n",
    "    return plt.show()\n",
    "plot(x= np.linspace(0,100,10))"
   ]
  },
  {
   "cell_type": "code",
   "execution_count": null,
   "id": "85fd9ede",
   "metadata": {},
   "outputs": [],
   "source": []
  }
 ],
 "metadata": {
  "kernelspec": {
   "display_name": "Python 3",
   "language": "python",
   "name": "python3"
  },
  "language_info": {
   "codemirror_mode": {
    "name": "ipython",
    "version": 3
   },
   "file_extension": ".py",
   "mimetype": "text/x-python",
   "name": "python",
   "nbconvert_exporter": "python",
   "pygments_lexer": "ipython3",
   "version": "3.8.8"
  }
 },
 "nbformat": 4,
 "nbformat_minor": 5
}
